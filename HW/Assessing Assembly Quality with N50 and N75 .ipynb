{
 "cells": [
  {
   "cell_type": "markdown",
   "id": "16ac0214",
   "metadata": {},
   "source": [
    "# Assessing Assembly Quality with N50 and N75 "
   ]
  },
  {
   "cell_type": "markdown",
   "id": "c8c4bd95",
   "metadata": {},
   "source": [
    "Given a collection of DNA strings representing contigs, we use the N statistic NXX (where XX ranges from 01 to 99) to represent the maximum positive integer L such that the total number of nucleotides of all contigs having length ≥L\n",
    "\n",
    "is at least XX% of the sum of contig lengths. The most commonly used such statistic is N50, although N75 is also worth mentioning.\n",
    "\n",
    "Given: A collection of at most 1000 DNA strings (whose combined length does not exceed 50 kbp).\n",
    "\n",
    "Return: N50 and N75 for this collection of strings."
   ]
  },
  {
   "cell_type": "code",
   "execution_count": null,
   "id": "c0af5e81",
   "metadata": {},
   "outputs": [],
   "source": [
    "x=[]\n",
    "with open('rosalind_asmq.txt') as f:\n",
    "    for line in f :\n",
    "        x.append(line.strip())\n",
    "x = sorted(x, key=len)\n",
    "m=len(x)\n",
    "t=0\n",
    "for i in range(m):\n",
    "    t=t+len(x[i])\n",
    "\n",
    "\n",
    "y=t*1/2\n",
    "s=0\n",
    "n=m-1\n",
    "while s < y :\n",
    "    s= s + len(x[n])\n",
    "    n=n-1\n",
    "\n",
    "\n",
    "n50= len(x[n+1])\n",
    "m=len(x)\n",
    "t=0\n",
    "for i in range(m):\n",
    "    t=t+len(x[i])\n",
    "\n",
    "\n",
    "y=t*3/4\n",
    "s=0\n",
    "n=m-1\n",
    "while s < y :\n",
    "    s= s + len(x[n])\n",
    "    n=n-1\n",
    "\n",
    "n75= len(x[n+1])\n",
    "\n",
    "print (n50,'',n75)"
   ]
  }
 ],
 "metadata": {
  "kernelspec": {
   "display_name": "Python 3 (ipykernel)",
   "language": "python",
   "name": "python3"
  },
  "language_info": {
   "codemirror_mode": {
    "name": "ipython",
    "version": 3
   },
   "file_extension": ".py",
   "mimetype": "text/x-python",
   "name": "python",
   "nbconvert_exporter": "python",
   "pygments_lexer": "ipython3",
   "version": "3.9.7"
  }
 },
 "nbformat": 4,
 "nbformat_minor": 5
}
