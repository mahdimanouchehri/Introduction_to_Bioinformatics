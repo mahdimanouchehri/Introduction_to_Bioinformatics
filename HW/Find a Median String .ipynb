{
 "cells": [
  {
   "cell_type": "markdown",
   "id": "5978af26",
   "metadata": {},
   "source": [
    "# Find a Median String "
   ]
  },
  {
   "cell_type": "markdown",
   "id": "24d0ef47",
   "metadata": {},
   "source": [
    "Find a median string.\n",
    "\n",
    "Given: An integer k and a collection of strings Dna.\n",
    "\n",
    "Return: A k-mer Pattern that minimizes d(Pattern, Dna) over all k-mers Pattern. (If multiple answers exist, you may return any one.)"
   ]
  },
  {
   "cell_type": "code",
   "execution_count": null,
   "id": "ad7064e6",
   "metadata": {},
   "outputs": [],
   "source": [
    "x=[]\n",
    "with open('rosalind_ba2b.txt','r') as f :\n",
    "    k=int(f.readline().strip())\n",
    "    for line in f :\n",
    "        line = line.strip()\n",
    "        x.append(line)\n",
    "\n",
    "def hammingDist(str1, str2):\n",
    "    i = 0\n",
    "    count = 0\n",
    "\n",
    "    while (i < len(str1)):\n",
    "        if (str1[i] != str2[i]):\n",
    "            count += 1\n",
    "        i += 1\n",
    "    return count\n",
    "\n",
    "bases = ['A', 'C', 'G', 'T']\n",
    "string = bases\n",
    "for n in range(k - 1):\n",
    "    string = [i + j for i in string for j in bases]\n",
    "total_distance=0\n",
    "min_total_distance=10000\n",
    "\n",
    "for element in string:\n",
    "    total_distance=0\n",
    "    for i in x :\n",
    "        min_distance = 10000\n",
    "        for j in range (0,len(i)-len(element)+1):\n",
    "            distance=hammingDist(element,i[j:j+k])\n",
    "            if distance < min_distance :\n",
    "                min_distance=distance\n",
    "        total_distance += min_distance\n",
    "\n",
    "    if total_distance< min_total_distance :\n",
    "        min_total_distance = total_distance\n",
    "        p=element\n",
    "\n",
    "\n",
    "print(p)"
   ]
  }
 ],
 "metadata": {
  "kernelspec": {
   "display_name": "Python 3 (ipykernel)",
   "language": "python",
   "name": "python3"
  },
  "language_info": {
   "codemirror_mode": {
    "name": "ipython",
    "version": 3
   },
   "file_extension": ".py",
   "mimetype": "text/x-python",
   "name": "python",
   "nbconvert_exporter": "python",
   "pygments_lexer": "ipython3",
   "version": "3.9.7"
  }
 },
 "nbformat": 4,
 "nbformat_minor": 5
}
