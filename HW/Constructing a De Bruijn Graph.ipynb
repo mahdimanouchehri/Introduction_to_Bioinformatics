{
 "cells": [
  {
   "cell_type": "markdown",
   "id": "f31393ad",
   "metadata": {},
   "source": [
    "# Constructing a De Bruijn Graph"
   ]
  },
  {
   "cell_type": "markdown",
   "id": "cadac7c0",
   "metadata": {},
   "source": [
    "Consider a set S of (k+1)-mers of some unknown DNA string. Let Src denote the set containing all reverse complements of the elements of S\n",
    "\n",
    ". (recall from “Counting Subsets” that sets are not allowed to contain duplicate elements).\n",
    "\n",
    "The de Bruijn graph Bk\n",
    "of order k corresponding to S∪Src\n",
    "\n",
    "is a digraph defined in the following way:\n",
    "\n",
    "    Nodes of Bk\n",
    "\n",
    "correspond to all k-mers that are present as a substring of a (k+1)-mer from S∪Src\n",
    ".\n",
    "Edges of Bk\n",
    "are encoded by the (k+1)-mers of S∪Src in the following way: for each (k+1)-mer r in S∪Src, form a directed edge (r[1:k], r[2:k+1]\n",
    "\n",
    "    ).\n",
    "\n",
    "Given: A collection of up to 1000 (possibly repeating) DNA strings of equal length (not exceeding 50 bp) corresponding to a set S\n",
    "of (k+1)\n",
    "\n",
    "-mers.\n",
    "\n",
    "Return: The adjacency list corresponding to the de Bruijn graph corresponding to S∪Src\n",
    "."
   ]
  },
  {
   "cell_type": "code",
   "execution_count": null,
   "id": "405c57c0",
   "metadata": {},
   "outputs": [],
   "source": [
    "x=[]\n",
    "with open('rosalind_dbru.txt','r') as f :\n",
    "    for line in f :\n",
    "        line = line.strip()\n",
    "        x.append(line)\n",
    "y=[]\n",
    "for element in x:\n",
    "    comp = ''\n",
    "    for i in element:\n",
    "        if i == 'A':\n",
    "            comp += 'T'\n",
    "        if i == 'C':\n",
    "            comp += 'G'\n",
    "        if i == 'G':\n",
    "            comp += 'C'\n",
    "        if i == 'T':\n",
    "            comp += 'A'\n",
    "\n",
    "    y.append(comp[::-1])\n",
    "\n",
    "x=x+y\n",
    "x = list(dict.fromkeys(x))\n",
    "l=[]\n",
    "for i in x :\n",
    "    k = i[1:]\n",
    "    h = i[:-1]\n",
    "    l.append((h,k))\n",
    "l = list(dict.fromkeys(l))\n",
    "for i in l :\n",
    "    print('('+i[0]+',',i[1]+')')"
   ]
  }
 ],
 "metadata": {
  "kernelspec": {
   "display_name": "Python 3 (ipykernel)",
   "language": "python",
   "name": "python3"
  },
  "language_info": {
   "codemirror_mode": {
    "name": "ipython",
    "version": 3
   },
   "file_extension": ".py",
   "mimetype": "text/x-python",
   "name": "python",
   "nbconvert_exporter": "python",
   "pygments_lexer": "ipython3",
   "version": "3.9.7"
  }
 },
 "nbformat": 4,
 "nbformat_minor": 5
}
