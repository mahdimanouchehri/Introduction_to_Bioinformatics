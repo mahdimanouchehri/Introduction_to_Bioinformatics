{
 "cells": [
  {
   "cell_type": "markdown",
   "id": "5405e8a3",
   "metadata": {},
   "source": [
    "# Error Correction in Reads "
   ]
  },
  {
   "cell_type": "markdown",
   "id": "81af87bb",
   "metadata": {},
   "source": [
    "As is the case with point mutations, the most common type of sequencing error occurs when a single nucleotide from a read is interpreted incorrectly.\n",
    "\n",
    "Given: A collection of up to 1000 reads of equal length (at most 50 bp) in FASTA format. Some of these reads were generated with a single-nucleotide error. For each read s\n",
    "\n",
    "\n",
    "\n",
    "Return: A list of all corrections in the form \"[old read]->[new read]\". (Each correction must be a single symbol substitution, and you may return the corrections in any order.)"
   ]
  },
  {
   "cell_type": "code",
   "execution_count": null,
   "id": "dffdc59e",
   "metadata": {},
   "outputs": [],
   "source": [
    "x=[]\n",
    "with open('rosalind_corr.txt','r') as f :\n",
    "    for line in f :\n",
    "        line = line.strip()\n",
    "        if line.startswith('>'):\n",
    "            continue\n",
    "        else:\n",
    "            x.append(line)\n",
    "\n",
    "def reverse_complement(element):\n",
    "    comp = ''\n",
    "    for i in element:\n",
    "        if i == 'A':\n",
    "            comp += 'T'\n",
    "        if i == 'C':\n",
    "            comp += 'G'\n",
    "        if i == 'G':\n",
    "            comp += 'C'\n",
    "        if i == 'T':\n",
    "            comp += 'A'\n",
    "\n",
    "    return comp[::-1]\n",
    "\n",
    "def Hamming_distance(str1,str2):\n",
    "    counter=0\n",
    "    for i in range(len(str1)):\n",
    "        if str1[i]==str2[i]:\n",
    "            continue\n",
    "        else:\n",
    "            counter=counter+1\n",
    "    return counter\n",
    "\n",
    "incorrect = []\n",
    "correct = []\n",
    "for element in range(len(x)) :\n",
    "    if x.count(x[element]) + x.count(reverse_complement(x[element])) > 1:\n",
    "        correct.append(x[element])\n",
    "    else:\n",
    "        incorrect.append(x[element])\n",
    "\n",
    "j=0\n",
    "for element in incorrect:\n",
    "    for i in correct :\n",
    "        if Hamming_distance(element,i) == 1 :\n",
    "            j = j + 1\n",
    "            print(element+ '->' +i)\n",
    "            break\n",
    "for element in incorrect:\n",
    "    for i in correct :\n",
    "        if Hamming_distance(element,reverse_complement(i)) == 1 :\n",
    "            j = j + 1\n",
    "            print(element+ '->' +reverse_complement(i))\n",
    "            break"
   ]
  }
 ],
 "metadata": {
  "kernelspec": {
   "display_name": "Python 3 (ipykernel)",
   "language": "python",
   "name": "python3"
  },
  "language_info": {
   "codemirror_mode": {
    "name": "ipython",
    "version": 3
   },
   "file_extension": ".py",
   "mimetype": "text/x-python",
   "name": "python",
   "nbconvert_exporter": "python",
   "pygments_lexer": "ipython3",
   "version": "3.9.7"
  }
 },
 "nbformat": 4,
 "nbformat_minor": 5
}
