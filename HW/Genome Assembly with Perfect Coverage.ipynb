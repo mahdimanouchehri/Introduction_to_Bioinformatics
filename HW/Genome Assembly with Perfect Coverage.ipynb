{
 "cells": [
  {
   "cell_type": "markdown",
   "id": "24e0fc69",
   "metadata": {},
   "source": [
    "# Genome Assembly with Perfect Coverage"
   ]
  },
  {
   "cell_type": "markdown",
   "id": "5dedbd13",
   "metadata": {},
   "source": [
    "A circular string is a string that does not have an initial or terminal element; instead, the string is viewed as a necklace of symbols. We can represent a circular string as a string enclosed in parentheses. For example, consider the circular DNA string (ACGTAC), and note that because the string \"wraps around\" at the end, this circular string can equally be represented by (CGTACA), (GTACAC), (TACACG), (ACACGT), and (CACGTA). The definitions of substrings and superstrings are easy to generalize to the case of circular strings (keeping in mind that substrings are allowed to wrap around).\n",
    "\n",
    "Given: A collection of (error-free) DNA k\n",
    "-mers (k≤50) taken from the same strand of a circular chromosome. In this dataset, all k\n",
    "\n",
    "-mers from this strand of the chromosome are present, and their de Bruijn graph consists of exactly one simple cycle.\n",
    "\n",
    "Return: A cyclic superstring of minimal length containing the reads (thus corresponding to a candidate cyclic chromosome)."
   ]
  },
  {
   "cell_type": "code",
   "execution_count": null,
   "id": "adfa5275",
   "metadata": {},
   "outputs": [],
   "source": [
    "x=[]\n",
    "with open('rosalind_pcov.txt','r') as f :\n",
    "    for line in f :\n",
    "        line = line.strip()\n",
    "        x.append(line)\n",
    "l=[]\n",
    "for i in x :\n",
    "    k = i[1:]\n",
    "    h = i[:-1]\n",
    "    l.append((h,k))\n",
    "\n",
    "target=l[0][0][-1]\n",
    "target+=l[0][1][-1]\n",
    "\n",
    "element=l[0]\n",
    "for i in range (len(l)-2):\n",
    "\n",
    "    for j in range (len(l)):\n",
    "\n",
    "        if element[1]==l[j][0]:\n",
    "            element=l[j]\n",
    "            target+=l[j][1][-1]\n",
    "\n",
    "            break\n",
    "print(target)"
   ]
  }
 ],
 "metadata": {
  "kernelspec": {
   "display_name": "Python 3 (ipykernel)",
   "language": "python",
   "name": "python3"
  },
  "language_info": {
   "codemirror_mode": {
    "name": "ipython",
    "version": 3
   },
   "file_extension": ".py",
   "mimetype": "text/x-python",
   "name": "python",
   "nbconvert_exporter": "python",
   "pygments_lexer": "ipython3",
   "version": "3.9.7"
  }
 },
 "nbformat": 4,
 "nbformat_minor": 5
}
