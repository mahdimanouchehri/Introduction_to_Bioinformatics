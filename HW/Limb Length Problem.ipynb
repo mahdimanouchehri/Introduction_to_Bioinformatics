{
 "cells": [
  {
   "cell_type": "markdown",
   "id": "b9a609f0",
   "metadata": {},
   "source": [
    "# Limb Length Problem"
   ]
  },
  {
   "cell_type": "markdown",
   "id": "0a8db816",
   "metadata": {},
   "source": [
    "\n",
    "\n",
    "Find the limb length for a leaf in a tree.\n",
    "\n",
    "Given: An integer n, followed by an integer j between 0 and n - 1, followed by a space-separated additive distance matrix D (whose elements are integers).\n",
    "\n",
    "Return: The limb length of the leaf in Tree(D) corresponding to row j of this distance matrix "
   ]
  },
  {
   "cell_type": "code",
   "execution_count": null,
   "id": "cb8226c1",
   "metadata": {},
   "outputs": [],
   "source": [
    "x=[]\n",
    "d=[]\n",
    "\n",
    "with open('rosalind_ba7b.txt','r') as f :\n",
    "    for line in f:\n",
    "        line = line.strip()\n",
    "        x.append(line)\n",
    "    tool= int(x[0])\n",
    "    j = int(x[1])\n",
    "\n",
    "    for p in range(tool):\n",
    "        d.append([])\n",
    "        for o in range(tool):\n",
    "            d[p].append(0)\n",
    "    for i in range(tool):\n",
    "        s = x[i + 2].split()\n",
    "        for k in range(tool):\n",
    "            d[i][k] = int(s[k])\n",
    "\n",
    "\n",
    "l = float('inf')\n",
    "if j > 0:\n",
    "    i = j - 1\n",
    "else:\n",
    "    i = j + 1\n",
    "for k in range(tool):\n",
    "    if i != k and k != j:\n",
    "        fasele = (d[i][j] + d[j][k] - d[i][k]) / 2\n",
    "        if fasele < l:\n",
    "            l = fasele\n",
    "\n",
    "print(int(l))"
   ]
  }
 ],
 "metadata": {
  "kernelspec": {
   "display_name": "Python 3 (ipykernel)",
   "language": "python",
   "name": "python3"
  },
  "language_info": {
   "codemirror_mode": {
    "name": "ipython",
    "version": 3
   },
   "file_extension": ".py",
   "mimetype": "text/x-python",
   "name": "python",
   "nbconvert_exporter": "python",
   "pygments_lexer": "ipython3",
   "version": "3.9.7"
  }
 },
 "nbformat": 4,
 "nbformat_minor": 5
}
