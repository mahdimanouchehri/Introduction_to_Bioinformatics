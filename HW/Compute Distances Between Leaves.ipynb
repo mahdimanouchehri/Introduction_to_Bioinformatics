{
 "cells": [
  {
   "cell_type": "markdown",
   "id": "ad0b62ab",
   "metadata": {},
   "source": [
    "# Compute Distances Between Leaves "
   ]
  },
  {
   "cell_type": "markdown",
   "id": "531583cc",
   "metadata": {},
   "source": [
    "In this chapter, we define the length of a path in a tree as the sum of the lengths of its edges (rather than the number of edges on the path). As a result, the evolutionary distance between two present-day species corresponding to leaves i and j in a tree T is equal to the length of the unique path connecting i and j, denoted di, j(T).\n",
    "Distance Between Leaves Problem\n",
    "\n",
    "Compute the distances between leaves in a weighted tree.\n",
    "\n",
    "Given: An integer n followed by the adjacency list of a weighted tree with n leaves.\n",
    "\n",
    "Return: A space-separated n x n (di, j), where di, j is the length of the path between leaves i and j."
   ]
  },
  {
   "cell_type": "code",
   "execution_count": null,
   "id": "e74254f0",
   "metadata": {},
   "outputs": [],
   "source": [
    "x=[]\n",
    "y = dict()\n",
    "with open('rosalind_ba7a_869_1_dataset.txt','r') as f :\n",
    "        for line in f:\n",
    "            line = line.strip()\n",
    "            x.append(line)\n",
    "        length = int(x[0])\n",
    "\n",
    "        for i in x[1:]:\n",
    "            i = i.split('->')\n",
    "            \n",
    "            j = i[1].split(':')\n",
    "            if not int(i[0]) in y:\n",
    "                y[int(i[0])] = []\n",
    "            y[int(i[0])].append((int(j[0]), int(j[1])))\n",
    "\n",
    "q=[]\n",
    "d=[]\n",
    "for i in range(length):\n",
    "    d.append([])\n",
    "    for j in range(tool):\n",
    "        d[i].append(0)\n",
    "for i in range(length):\n",
    "    v = dict()\n",
    "    v[i] = 0\n",
    "    q.append(i)\n",
    "    while not len(q)==0:\n",
    "        m=q.pop(0)\n",
    "        for j, k in y[m]:\n",
    "            if not j in v:\n",
    "                v[j] = v[m] + k\n",
    "                if j < length:\n",
    "                    d[i][j] = v[j]\n",
    "\n",
    "                q.append(j)\n",
    "\n",
    "for d in d:\n",
    "    print(' '.join([str(i) for i in d]))"
   ]
  },
  {
   "cell_type": "code",
   "execution_count": null,
   "id": "e3abc75f",
   "metadata": {},
   "outputs": [],
   "source": []
  }
 ],
 "metadata": {
  "kernelspec": {
   "display_name": "Python 3 (ipykernel)",
   "language": "python",
   "name": "python3"
  },
  "language_info": {
   "codemirror_mode": {
    "name": "ipython",
    "version": 3
   },
   "file_extension": ".py",
   "mimetype": "text/x-python",
   "name": "python",
   "nbconvert_exporter": "python",
   "pygments_lexer": "ipython3",
   "version": "3.9.7"
  }
 },
 "nbformat": 4,
 "nbformat_minor": 5
}
